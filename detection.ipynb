{
 "cells": [
  {
   "cell_type": "code",
   "execution_count": 1,
   "id": "df928117",
   "metadata": {},
   "outputs": [],
   "source": [
    "import os\n",
    "import numpy as np\n",
    "import cv2 as cv\n",
    "import math\n",
    "import shutil\n",
    "from PIL import Image\n",
    "import matplotlib.pyplot as plt\n",
    "import pathlib\n",
    "import pickle\n",
    "from zipfile import ZipFile \n",
    "import keras\n",
    "from keras.models import Sequential\n",
    "from keras.layers import Dense, Conv2D , MaxPool2D , Flatten , Dropout \n",
    "from keras.preprocessing.image import ImageDataGenerator\n",
    "from keras.optimizers import Adam\n",
    "from sklearn.metrics import classification_report,confusion_matrix\n",
    "import tensorflow as tf"
   ]
  },
  {
   "cell_type": "code",
   "execution_count": 2,
   "id": "c2097f88",
   "metadata": {},
   "outputs": [],
   "source": [
    "def get_folder_length(directory):\n",
    "    labels = ['0','1','2','3','4','5','6','7','8','9']\n",
    "    length = []\n",
    "    \n",
    "    for label in labels:\n",
    "        store = []\n",
    "        path = os.path.join(directory,label)\n",
    "        for img in os.listdir(path):\n",
    "            store.append(img)\n",
    "        length.append(len(store))\n",
    "    return length"
   ]
  },
  {
   "cell_type": "code",
   "execution_count": 3,
   "id": "7cfbd20f",
   "metadata": {},
   "outputs": [],
   "source": [
    "total = get_folder_length(\"data/\")"
   ]
  },
  {
   "cell_type": "code",
   "execution_count": 4,
   "id": "b9347a5b",
   "metadata": {},
   "outputs": [
    {
     "name": "stdout",
     "output_type": "stream",
     "text": [
      "[20250, 20385, 20538, 21762, 21690, 20691, 20601, 19746, 20637, 20448]\n"
     ]
    }
   ],
   "source": [
    "print(total)"
   ]
  },
  {
   "cell_type": "code",
   "execution_count": 5,
   "id": "434c896b",
   "metadata": {},
   "outputs": [],
   "source": [
    "def percentage_calculator(number,percent):\n",
    "    return (math.floor((percent*(number/100))))"
   ]
  },
  {
   "cell_type": "code",
   "execution_count": 6,
   "id": "01310a30",
   "metadata": {},
   "outputs": [
    {
     "name": "stdout",
     "output_type": "stream",
     "text": [
      "16200\n",
      "16308\n",
      "16430\n",
      "17409\n",
      "17352\n",
      "16552\n",
      "16480\n",
      "15796\n",
      "16509\n",
      "16358\n"
     ]
    }
   ],
   "source": [
    "divide = []\n",
    "\n",
    "for i in total:\n",
    "    percent = 0\n",
    "    percent = percentage_calculator(i,80)\n",
    "    print(percent)\n",
    "    divide.append(percent)"
   ]
  },
  {
   "cell_type": "code",
   "execution_count": 7,
   "id": "7480232e",
   "metadata": {},
   "outputs": [],
   "source": [
    "remaining = []\n",
    "\n",
    "for i in range(10):\n",
    "    remaining.append(total[i] - divide[i])\n",
    "    i = i + 1 "
   ]
  },
  {
   "cell_type": "code",
   "execution_count": 8,
   "id": "e6971d20",
   "metadata": {},
   "outputs": [
    {
     "name": "stdout",
     "output_type": "stream",
     "text": [
      "[20250, 20385, 20538, 21762, 21690, 20691, 20601, 19746, 20637, 20448]\n",
      "[16200, 16308, 16430, 17409, 17352, 16552, 16480, 15796, 16509, 16358]\n",
      "[4050, 4077, 4108, 4353, 4338, 4139, 4121, 3950, 4128, 4090]\n"
     ]
    }
   ],
   "source": [
    "print(total)\n",
    "print(divide)\n",
    "print(remaining)"
   ]
  },
  {
   "cell_type": "code",
   "execution_count": 9,
   "id": "41e110f7",
   "metadata": {},
   "outputs": [],
   "source": [
    "def copy_images(directory,destination_train,destination_test):\n",
    "    labels = ['0','1','2','3','4','5','6','7','8','9']\n",
    "    index = 0\n",
    "    destination = destination_train\n",
    "    length = 0\n",
    "    \n",
    "    for label in labels:\n",
    "        path = os.path.join(directory,label)\n",
    "        for img in os.listdir(path):\n",
    "            shutil.copy(os.path.join(path,img),os.path.join(destination,label))\n",
    "            length = length + 1\n",
    "            if length == divide[index]:\n",
    "                destination = destination_test\n",
    "                print(index , \" : is inserted in train\")\n",
    "            elif length == total[index]:\n",
    "                print(index , \" : is inserted in test\")\n",
    "                index = index + 1\n",
    "                length = 0\n",
    "                destination = destination_train\n",
    "                break"
   ]
  },
  {
   "cell_type": "code",
   "execution_count": 10,
   "id": "3c07d29d",
   "metadata": {},
   "outputs": [],
   "source": [
    "#copy_images(\"data/\",\"data/train/\",\"data/test/\")"
   ]
  },
  {
   "cell_type": "code",
   "execution_count": 11,
   "id": "c71de26a",
   "metadata": {},
   "outputs": [],
   "source": [
    "labels = ['0','1','2','3','4','5','6','7','8','9']\n",
    "img_width = img_height = 28\n",
    "\n",
    "def get_data(directory):\n",
    "    \n",
    "    data = []\n",
    "    #reading the elements of list labels\n",
    "    for label in labels:\n",
    "        #joining the given path and \n",
    "        path = os.path.join(directory,label)\n",
    "        class_num = labels.index(label)\n",
    "        for img in os.listdir(path):\n",
    "            try:\n",
    "                img_arr = cv.imread(os.path.join(path,img))\n",
    "                resized_arr = cv.resize(img_arr,(img_width,img_height))\n",
    "                data.append([resized_arr,class_num])\n",
    "            except Exception as e:\n",
    "                print(e)\n",
    "    \n",
    "    return np.array(data)"
   ]
  },
  {
   "cell_type": "code",
   "execution_count": 12,
   "id": "11bbac7b",
   "metadata": {},
   "outputs": [],
   "source": [
    "train = np.load(\"train.npy\",allow_pickle=True)"
   ]
  },
  {
   "cell_type": "code",
   "execution_count": 13,
   "id": "c5c4d195",
   "metadata": {},
   "outputs": [],
   "source": [
    "val = np.load(\"validation.npy\",allow_pickle=True)"
   ]
  },
  {
   "cell_type": "code",
   "execution_count": 14,
   "id": "b2a32a2c",
   "metadata": {},
   "outputs": [],
   "source": [
    "#np.save('train.npy',train)\n",
    "#np.save('validation.npy',val)"
   ]
  },
  {
   "cell_type": "code",
   "execution_count": 15,
   "id": "9b550941",
   "metadata": {},
   "outputs": [],
   "source": [
    "x_train = []\n",
    "y_train = []\n",
    "x_val = []\n",
    "y_val = []\n",
    "img_width = img_height = 28\n",
    "\n",
    "for features,label in train:\n",
    "#     print(\"Feature : \", features,\"\\nLabel:\", label)\n",
    "#     n = input(\"hehe\")\n",
    "    x_train.append(features)\n",
    "    y_train.append(label)\n",
    "for features,label in val:\n",
    "    x_val.append(features)\n",
    "    y_val.append(label)\n",
    "    \n",
    "x_train = np.array(x_train)/255\n",
    "x_val = np.array(x_val)/255\n",
    "\n",
    "y_train = np.array(y_train)/255\n",
    "y_val = np.array(y_val)/255\n",
    "\n",
    "x_train.reshape(-1, img_width, img_height, 1)\n",
    "y_train = np.array(y_train)\n",
    "\n",
    "x_val.reshape(-1, img_width, img_height, 1)\n",
    "y_val = np.array(y_val)"
   ]
  },
  {
   "cell_type": "code",
   "execution_count": 16,
   "id": "337fbe02",
   "metadata": {},
   "outputs": [],
   "source": [
    "datagen = ImageDataGenerator(\n",
    "        featurewise_center=False,  # set input mean to 0 over the dataset\n",
    "        samplewise_center=False,  # set each sample mean to 0\n",
    "        featurewise_std_normalization=False,  # divide inputs by std of the dataset\n",
    "        samplewise_std_normalization=False,  # divide each input by its std\n",
    "        zca_whitening=False,  # apply ZCA whitening\n",
    "        rotation_range = 30,  # randomly rotate images in the range (degrees, 0 to 180)\n",
    "        zoom_range = 0.2, # Randomly zoom image \n",
    "        width_shift_range=0.1,  # randomly shift images horizontally (fraction of total width)\n",
    "        height_shift_range=0.1,  # randomly shift images vertically (fraction of total height)\n",
    "        horizontal_flip = True,  # randomly flip images\n",
    "        vertical_flip=False)  # randomly flip images\n",
    "\n",
    "\n",
    "datagen.fit(x_train)"
   ]
  },
  {
   "cell_type": "code",
   "execution_count": 17,
   "id": "2e18cf43",
   "metadata": {},
   "outputs": [
    {
     "name": "stdout",
     "output_type": "stream",
     "text": [
      "Model: \"sequential\"\n",
      "_________________________________________________________________\n",
      " Layer (type)                Output Shape              Param #   \n",
      "=================================================================\n",
      " conv2d (Conv2D)             (None, 28, 28, 32)        896       \n",
      "                                                                 \n",
      " max_pooling2d (MaxPooling2D  (None, 14, 14, 32)       0         \n",
      " )                                                               \n",
      "                                                                 \n",
      " conv2d_1 (Conv2D)           (None, 14, 14, 32)        9248      \n",
      "                                                                 \n",
      " max_pooling2d_1 (MaxPooling  (None, 7, 7, 32)         0         \n",
      " 2D)                                                             \n",
      "                                                                 \n",
      " conv2d_2 (Conv2D)           (None, 7, 7, 64)          18496     \n",
      "                                                                 \n",
      " max_pooling2d_2 (MaxPooling  (None, 3, 3, 64)         0         \n",
      " 2D)                                                             \n",
      "                                                                 \n",
      " dropout (Dropout)           (None, 3, 3, 64)          0         \n",
      "                                                                 \n",
      " flatten (Flatten)           (None, 576)               0         \n",
      "                                                                 \n",
      " dense (Dense)               (None, 128)               73856     \n",
      "                                                                 \n",
      " dense_1 (Dense)             (None, 2)                 258       \n",
      "                                                                 \n",
      "=================================================================\n",
      "Total params: 102,754\n",
      "Trainable params: 102,754\n",
      "Non-trainable params: 0\n",
      "_________________________________________________________________\n"
     ]
    }
   ],
   "source": [
    "model = Sequential()\n",
    "model.add(Conv2D(32,3,padding=\"same\", activation=\"relu\", input_shape=(28, 28,3)))\n",
    "model.add(MaxPool2D())\n",
    "\n",
    "model.add(Conv2D(32, 3, padding=\"same\", activation=\"relu\"))\n",
    "model.add(MaxPool2D())\n",
    "\n",
    "model.add(Conv2D(64, 3, padding=\"same\", activation=\"relu\"))\n",
    "model.add(MaxPool2D())\n",
    "model.add(Dropout(0.4))\n",
    "\n",
    "model.add(Flatten())\n",
    "model.add(Dense(128,activation=\"relu\"))\n",
    "model.add(Dense(2, activation=\"softmax\"))\n",
    "\n",
    "model.summary()"
   ]
  },
  {
   "cell_type": "code",
   "execution_count": 18,
   "id": "33b7db8e",
   "metadata": {},
   "outputs": [],
   "source": [
    "opt = Adam(learning_rate=0.000001)\n",
    "model.compile(optimizer = opt , loss = tf.keras.losses.SparseCategoricalCrossentropy(from_logits=False) , metrics = ['accuracy'])"
   ]
  },
  {
   "cell_type": "code",
   "execution_count": 19,
   "id": "deca9f96",
   "metadata": {},
   "outputs": [
    {
     "name": "stderr",
     "output_type": "stream",
     "text": [
      "UsageError: Line magic function `%%time` not found.\n"
     ]
    }
   ],
   "source": [
    "# try:\n",
    "history = model.fit(x_train,y_train,epochs = 10 , validation_data = (x_val,y_val))\n",
    "# except Exception as e:\n",
    "#     print(e)"
   ]
  },
  {
   "cell_type": "code",
   "execution_count": null,
   "id": "e60e07fd",
   "metadata": {},
   "outputs": [],
   "source": []
  }
 ],
 "metadata": {
  "kernelspec": {
   "display_name": "Python 3 (ipykernel)",
   "language": "python",
   "name": "python3"
  },
  "language_info": {
   "codemirror_mode": {
    "name": "ipython",
    "version": 3
   },
   "file_extension": ".py",
   "mimetype": "text/x-python",
   "name": "python",
   "nbconvert_exporter": "python",
   "pygments_lexer": "ipython3",
   "version": "3.9.7"
  }
 },
 "nbformat": 4,
 "nbformat_minor": 5
}
